{
 "cells": [
  {
   "cell_type": "markdown",
   "metadata": {},
   "source": [
    "# Implementando nosso sistema de recomendação em Python usando Gradiente Descendente Estocástico (SGD)"
   ]
  },
  {
   "cell_type": "markdown",
   "metadata": {},
   "source": [
    "SGD e ALS são dois algoritmos amplamente utilizados para fatorar a matriz de scores (usuário x item) em duas matrizes de dimensões menores, com o benefício de fazer as atualizações do modelo mais fáceis.\n",
    "\n",
    "*Recapitulando algumas coisas*:\n",
    "- **Filtragem Colaborativa** tem como principal vantagem o fato de ser capaz de recomendar itens complexos sem nenhum conhecimento anterior do item.\n",
    "- **Baseados em Memória** usam a **similaridade** entre itens ou usuários, ex. usando a similaridade de cossenos.  \n",
    "- **Baseados em Modelos** usam fatoração de matrizes.\n",
    "\n",
    " *O objetivo principal do algoritmo de fatoração de matrizes é modelar os ratings preditos através da minimização do erro quadrático relativo à matriz de fatores latentes de usuário $P$ e a matriz de fatores latentes de itens $Q$, sobre o conjunto de ratings reais:\n",
    "\n",
    "<img src=\"https://latex.codecogs.com/gif.latex?\\underset{Q*&space;,&space;P*}{min}\\sum_{(u,i)\\epsilon&space;K&space;}(r_{ui}-P_u^TQ_i)^2&plus;\\lambda(\\left&space;\\|&space;Q_i&space;\\right&space;\\|^2&space;&plus;&space;\\left&space;\\|&space;P_u&space;\\right&space;\\|^2)$&space;&space;$(1)\" title=\"\\underset{q* , p*}{min}\\sum_{(u,i)\\epsilon K }(r_{ui}-q_i^Tp_u)^2+\\lambda(\\left \\| q_i \\right \\|^2 + \\left \\| p_u \\right \\|^2)\" />\n",
    "\n",
    "Onde $K$ é um conjunto de pares $(u,i)$ tal que o rating é conhecido no conjunto de treino: por exemplo, $r_{ui}$ é o rating do item $i$ dado pelo usuário $u$ no conjunto de treino, e $\\lambda$ é o parâmetro de regularização para evitar overfiting. O erro quadrático regularizado é a **função de perda** que você almeja minimizar. Depois de estimados $P$ e $Q$ através da minimização do erro quadrático, é possível prever os ratings desconhecidos pelo produto escalar dos fatores latentes dos usuários e dos itens.\n",
    "\n",
    "O **gradiente descendente estocástico (SGD)** ou **método dos mínimos quadrados alternados (ALS)** pode ser aplicado para minimizar a função de perda. Ambos *SGD* e *ALS* podem ser usados para aprendizagem em tempo real, ou seja, atualizar o modelo de maneira incremental a cada vez que um novo rating é registrado."
   ]
  },
  {
   "cell_type": "markdown",
   "metadata": {},
   "source": [
    "## Pré-processamento"
   ]
  },
  {
   "cell_type": "markdown",
   "metadata": {},
   "source": [
    "Aqui será utilizado o dataset MovieLens, onde você deve adicionar os arquivos descompactados do dataset em sua pasta de trabalho do Jupyter Notebook. O dataset pode ser baixado [aqui](http://files.grouplens.org/datasets/movielens/ml-100k.zip).\n",
    "Primeiro, leia o arquivo **u.data** que contém o dataset completo. Uma descrição rápida do dataset pode ser encontrada [aqui](http://files.grouplens.org/datasets/movielens/ml-100k-README.txt)."
   ]
  },
  {
   "cell_type": "code",
   "execution_count": 1,
   "metadata": {},
   "outputs": [
    {
     "name": "stdout",
     "output_type": "stream",
     "text": [
      "Number of users = 943 | Number of movies = 1682\n"
     ]
    }
   ],
   "source": [
    "import numpy as np\n",
    "import pandas as pd\n",
    "header = ['user_id', 'item_id', 'rating', 'timestamp']\n",
    "df = pd.read_csv('./ml-100k/u.data', sep='\\t', names=header)\n",
    "n_users = df.user_id.unique().shape[0]\n",
    "n_items = df.item_id.unique().shape[0]\n",
    "print ('Number of users = ' + str(n_users) + ' | Number of movies = ' + str(n_items))  "
   ]
  },
  {
   "cell_type": "markdown",
   "metadata": {
    "collapsed": true
   },
   "source": [
    "Você pode usar a biblioteca do [`scikit-learn`](http://scikit-learn.org/stable/) para dividir o dataset em duas porções de treino e teste. \n",
    "Ela mistura e divide os dados em dois datasets de acordo com a percentagem de exemplos de teste (``test_size``), que nesse caso é 0.25. O próximo passo será criar a matriz de ratings. Como teremos dados de treino e teste será necessário a criação de duas matrizes."
   ]
  },
  {
   "cell_type": "code",
   "execution_count": 2,
   "metadata": {},
   "outputs": [],
   "source": [
    "from sklearn.model_selection import train_test_split\n",
    "train_data, test_data = train_test_split(df,test_size=0.25)\n",
    "\n",
    "train_data = pd.DataFrame(train_data)\n",
    "test_data = pd.DataFrame(test_data)\n",
    "\n",
    "# Create training and test matrix\n",
    "R = np.zeros((n_users, n_items))\n",
    "for line in train_data.itertuples():\n",
    "    R[line[1]-1, line[2]-1] = line[3]  \n",
    "\n",
    "T = np.zeros((n_users, n_items))\n",
    "for line in test_data.itertuples():\n",
    "    T[line[1]-1, line[2]-1] = line[3]"
   ]
  },
  {
   "cell_type": "markdown",
   "metadata": {},
   "source": [
    "As matrizes $I$ e $I2$ servirão como um seletor de matrizes, elas separarão os ratings apropriados de acordo com a atualização das equações durante o treino sobre o dataset de treino (usando $I$) e de predição sobre o dataset de teste (usando $I2$)."
   ]
  },
  {
   "cell_type": "code",
   "execution_count": 3,
   "metadata": {},
   "outputs": [],
   "source": [
    "# Index matrix for training data\n",
    "I = R.copy()\n",
    "I[I > 0] = 1\n",
    "I[I == 0] = 0\n",
    "\n",
    "# Index matrix for test data\n",
    "I2 = T.copy()\n",
    "I2[I2 > 0] = 1\n",
    "I2[I2 == 0] = 0"
   ]
  },
  {
   "cell_type": "markdown",
   "metadata": {},
   "source": [
    "## Gradiente Descendente Estocástico com Regularização por Lambda Ponderado (SGD-WR)\n",
    "\n",
    "Ao utilizar Filtragem Colaborativa com Gradiente Descendente Estocástico, é necessário estimar duas matrizes - a matriz de fatores latentes do usuário $P$ e a matriz de fatores latentes dos itens $Q$. Após estimadas $P$ e $Q$, podem ser preditos os ratings desconhecidos através do produto escalar das matrizes de fatores latentes de usuário e item. <img src=\"https://latex.codecogs.com/gif.latex?\\hat&space;r_{ui}=P_u^TQ_i$&space;&space;$(2)\" title=\"\\hat r_{ui}=p_u^Tq_i\" />"
   ]
  },
  {
   "cell_type": "code",
   "execution_count": 4,
   "metadata": {},
   "outputs": [],
   "source": [
    "# Predict the unknown ratings through the dot product of the latent features for users and items \n",
    "def prediction(P,Q):\n",
    "    return np.dot(P.T,Q)"
   ]
  },
  {
   "cell_type": "markdown",
   "metadata": {},
   "source": [
    "#### Definição matemática do gradiente descendente estocástico quando utilizado para minimizar o erro quadrático regularizado (função de perda):\n",
    "\n",
    "Para atualizar $P$ e $Q$, pode-se utilizar o gradiente descendente estocástico onde tu itera sobre cada observação (linha) no conjunto de treino e atualiza $Q$ e $P$ da seguinte maneira:\n",
    "<img src=\"https://latex.codecogs.com/gif.latex?Q_{i&plus;1}&space;=&space;Q_i&space;&plus;&space;\\gamma&space;(e_{ui}\\cdot&space;P_u-\\lambda\\cdot&space;Q_i)$&space;&space;$(3)\" title=\"Q_{i+1} = Q_i + \\gamma (e_{ui}\\cdot P_u-\\lambda\\cdot Q_i)\" />\n",
    "\n",
    "<img src=\"https://latex.codecogs.com/gif.latex?P_{u&plus;1}&space;=&space;P_u&space;&plus;&space;\\gamma&space;(e_{ui}\\cdot&space;Q_i-\\lambda\\cdot&space;P_u)$&space;&space;$(4)\" title=\"P_{u+1} = P_u + \\gamma (e_{ui}\\cdot Q_i-\\lambda\\cdot P_u)\" />\n",
    "\n",
    "onde $\\gamma$ é a taxa de aprendizagem e $\\lambda$ é o parâmetro de regularização. O erro $(e)$ para o elemento $(u,i)$ é a diferença entre o rating predito e o rating real.\n",
    "<img src=\"https://latex.codecogs.com/gif.latex?e_{ui}=r_{ui}-P_u^TQ_i$&space;&space;$(5)\" title=\"e_{ui}=r_{ui}-p_u^Tq_i\" />\n",
    "\n",
    "Iniciamos definindo os parâmetros do algoritmo $\\lambda$ (peso de regularização) e $k$ (dimensionalidade do espaço de fatores latentes), também iniciando as matrizes de fatores latentes $P$ e $Q$."
   ]
  },
  {
   "cell_type": "code",
   "execution_count": 5,
   "metadata": {},
   "outputs": [],
   "source": [
    "lmbda = 0.1 # Regularisation weight\n",
    "k = 20  # Dimensionality of the latent feature space\n",
    "m, n = R.shape  # Number of users and items\n",
    "n_epochs = 100  # Number of epochs\n",
    "gamma=0.01  # Learning rate\n",
    "\n",
    "P = 3 * np.random.rand(k,m) # Latent user feature matrix\n",
    "Q = 3 * np.random.rand(k,n) # Latent movie feature matrix"
   ]
  },
  {
   "cell_type": "markdown",
   "metadata": {},
   "source": [
    "Existem várias métricas de avaliação, mas uma das mais populares utilizadas para avaliar a acurácia de ratings preditos é o Erro Quadrático Médio (RMSE), que vamos utilizar nesse tutorial:\n",
    "<img src=\"https://latex.codecogs.com/gif.latex?RMSE&space;=\\sqrt{\\frac{1}{N}&space;\\sum&space;(r_i&space;-\\hat{r_i})^2} $&space;&space;$(6)\" title=\"RMSE =\\sqrt{\\frac{1}{N} \\sum (r_i -\\hat{r_i})^2}\" />\n",
    "\n",
    "onde $N$ é o número de observações (linhas), $r_i$ é o rating real para a observação (linha) $i$ e $\\hat{r_i}$ é o rating predito.\n",
    "Como desejamos considerar apenas os ratings preditos que estão presentes nos conjuntos de treino e teste, filtramos todos os outros ratings na matriz de predição usando ``I`` e ``R[R > 0]``."
   ]
  },
  {
   "cell_type": "code",
   "execution_count": 6,
   "metadata": {},
   "outputs": [],
   "source": [
    "# Calculate the RMSE\n",
    "def rmse(I,R,Q,P):\n",
    "    return np.sqrt(np.sum((I * (R - prediction(P,Q)))**2)/len(R[R > 0]))"
   ]
  },
  {
   "cell_type": "markdown",
   "metadata": {},
   "source": [
    "Agora implementaremos o SGD-WR onde utilizaremos as equações ``(3)``, ``(4)``, ``(5)`` definidas anteriormente."
   ]
  },
  {
   "cell_type": "code",
   "execution_count": 7,
   "metadata": {},
   "outputs": [
    {
     "name": "stdout",
     "output_type": "stream",
     "text": [
      "[Epoch 1/100] train error: 3.754679, test error: 3.699914\n",
      "[Epoch 2/100] train error: 2.464711, test error: 2.660250\n",
      "[Epoch 3/100] train error: 2.091613, test error: 2.306635\n",
      "[Epoch 4/100] train error: 1.847776, test error: 2.066396\n",
      "[Epoch 5/100] train error: 1.659532, test error: 1.880100\n",
      "[Epoch 6/100] train error: 1.509259, test error: 1.732914\n",
      "[Epoch 7/100] train error: 1.389888, test error: 1.617646\n",
      "[Epoch 8/100] train error: 1.296124, test error: 1.528132\n",
      "[Epoch 9/100] train error: 1.222614, test error: 1.458361\n",
      "[Epoch 10/100] train error: 1.164406, test error: 1.403124\n",
      "[Epoch 11/100] train error: 1.117477, test error: 1.358408\n",
      "[Epoch 12/100] train error: 1.078862, test error: 1.321363\n",
      "[Epoch 13/100] train error: 1.046484, test error: 1.290047\n",
      "[Epoch 14/100] train error: 1.018903, test error: 1.263144\n",
      "[Epoch 15/100] train error: 0.995101, test error: 1.239737\n",
      "[Epoch 16/100] train error: 0.974337, test error: 1.219167\n",
      "[Epoch 17/100] train error: 0.956057, test error: 1.200944\n",
      "[Epoch 18/100] train error: 0.939840, test error: 1.184695\n",
      "[Epoch 19/100] train error: 0.925357, test error: 1.170126\n",
      "[Epoch 20/100] train error: 0.912350, test error: 1.157005\n",
      "[Epoch 21/100] train error: 0.900612, test error: 1.145143\n",
      "[Epoch 22/100] train error: 0.889975, test error: 1.134384\n",
      "[Epoch 23/100] train error: 0.880297, test error: 1.124597\n",
      "[Epoch 24/100] train error: 0.871464, test error: 1.115673\n",
      "[Epoch 25/100] train error: 0.863374, test error: 1.107516\n",
      "[Epoch 26/100] train error: 0.855941, test error: 1.100044\n",
      "[Epoch 27/100] train error: 0.849093, test error: 1.093186\n",
      "[Epoch 28/100] train error: 0.842763, test error: 1.086879\n",
      "[Epoch 29/100] train error: 0.836896, test error: 1.081068\n",
      "[Epoch 30/100] train error: 0.831442, test error: 1.075706\n",
      "[Epoch 31/100] train error: 0.826359, test error: 1.070747\n",
      "[Epoch 32/100] train error: 0.821607, test error: 1.066155\n",
      "[Epoch 33/100] train error: 0.817153, test error: 1.061896\n",
      "[Epoch 34/100] train error: 0.812969, test error: 1.057938\n",
      "[Epoch 35/100] train error: 0.809027, test error: 1.054255\n",
      "[Epoch 36/100] train error: 0.805305, test error: 1.050821\n",
      "[Epoch 37/100] train error: 0.801782, test error: 1.047616\n",
      "[Epoch 38/100] train error: 0.798442, test error: 1.044620\n",
      "[Epoch 39/100] train error: 0.795266, test error: 1.041814\n",
      "[Epoch 40/100] train error: 0.792243, test error: 1.039184\n",
      "[Epoch 41/100] train error: 0.789357, test error: 1.036713\n",
      "[Epoch 42/100] train error: 0.786600, test error: 1.034390\n",
      "[Epoch 43/100] train error: 0.783959, test error: 1.032203\n",
      "[Epoch 44/100] train error: 0.781427, test error: 1.030140\n",
      "[Epoch 45/100] train error: 0.778995, test error: 1.028193\n",
      "[Epoch 46/100] train error: 0.776656, test error: 1.026352\n",
      "[Epoch 47/100] train error: 0.774404, test error: 1.024609\n",
      "[Epoch 48/100] train error: 0.772232, test error: 1.022957\n",
      "[Epoch 49/100] train error: 0.770134, test error: 1.021390\n",
      "[Epoch 50/100] train error: 0.768107, test error: 1.019901\n",
      "[Epoch 51/100] train error: 0.766146, test error: 1.018484\n",
      "[Epoch 52/100] train error: 0.764247, test error: 1.017136\n",
      "[Epoch 53/100] train error: 0.762406, test error: 1.015851\n",
      "[Epoch 54/100] train error: 0.760621, test error: 1.014625\n",
      "[Epoch 55/100] train error: 0.758887, test error: 1.013455\n",
      "[Epoch 56/100] train error: 0.757203, test error: 1.012336\n",
      "[Epoch 57/100] train error: 0.755565, test error: 1.011266\n",
      "[Epoch 58/100] train error: 0.753973, test error: 1.010241\n",
      "[Epoch 59/100] train error: 0.752423, test error: 1.009259\n",
      "[Epoch 60/100] train error: 0.750914, test error: 1.008317\n",
      "[Epoch 61/100] train error: 0.749443, test error: 1.007414\n",
      "[Epoch 62/100] train error: 0.748011, test error: 1.006546\n",
      "[Epoch 63/100] train error: 0.746614, test error: 1.005713\n",
      "[Epoch 64/100] train error: 0.745252, test error: 1.004911\n",
      "[Epoch 65/100] train error: 0.743923, test error: 1.004140\n",
      "[Epoch 66/100] train error: 0.742627, test error: 1.003398\n",
      "[Epoch 67/100] train error: 0.741362, test error: 1.002684\n",
      "[Epoch 68/100] train error: 0.740126, test error: 1.001995\n",
      "[Epoch 69/100] train error: 0.738920, test error: 1.001331\n",
      "[Epoch 70/100] train error: 0.737742, test error: 1.000691\n",
      "[Epoch 71/100] train error: 0.736592, test error: 1.000074\n",
      "[Epoch 72/100] train error: 0.735468, test error: 0.999477\n",
      "[Epoch 73/100] train error: 0.734370, test error: 0.998902\n",
      "[Epoch 74/100] train error: 0.733297, test error: 0.998346\n",
      "[Epoch 75/100] train error: 0.732249, test error: 0.997808\n",
      "[Epoch 76/100] train error: 0.731224, test error: 0.997288\n",
      "[Epoch 77/100] train error: 0.730222, test error: 0.996786\n",
      "[Epoch 78/100] train error: 0.729243, test error: 0.996299\n",
      "[Epoch 79/100] train error: 0.728286, test error: 0.995829\n",
      "[Epoch 80/100] train error: 0.727350, test error: 0.995373\n",
      "[Epoch 81/100] train error: 0.726434, test error: 0.994931\n",
      "[Epoch 82/100] train error: 0.725539, test error: 0.994503\n",
      "[Epoch 83/100] train error: 0.724663, test error: 0.994089\n",
      "[Epoch 84/100] train error: 0.723807, test error: 0.993686\n",
      "[Epoch 85/100] train error: 0.722969, test error: 0.993296\n",
      "[Epoch 86/100] train error: 0.722149, test error: 0.992917\n",
      "[Epoch 87/100] train error: 0.721346, test error: 0.992550\n",
      "[Epoch 88/100] train error: 0.720561, test error: 0.992192\n",
      "[Epoch 89/100] train error: 0.719793, test error: 0.991845\n",
      "[Epoch 90/100] train error: 0.719040, test error: 0.991508\n",
      "[Epoch 91/100] train error: 0.718304, test error: 0.991180\n",
      "[Epoch 92/100] train error: 0.717583, test error: 0.990861\n",
      "[Epoch 93/100] train error: 0.716877, test error: 0.990551\n",
      "[Epoch 94/100] train error: 0.716185, test error: 0.990249\n",
      "[Epoch 95/100] train error: 0.715508, test error: 0.989954\n",
      "[Epoch 96/100] train error: 0.714844, test error: 0.989668\n",
      "[Epoch 97/100] train error: 0.714194, test error: 0.989388\n",
      "[Epoch 98/100] train error: 0.713557, test error: 0.989116\n",
      "[Epoch 99/100] train error: 0.712933, test error: 0.988851\n",
      "[Epoch 100/100] train error: 0.712321, test error: 0.988592\n",
      "Algorithm converged\n"
     ]
    }
   ],
   "source": [
    "train_errors = []\n",
    "test_errors = []\n",
    "\n",
    "#Only consider non-zero matrix \n",
    "users,items = R.nonzero()      \n",
    "for epoch in range(n_epochs):\n",
    "    for u, i in zip(users,items):\n",
    "        e = R[u, i] - prediction(P[:,u],Q[:,i])  # Calculate error for gradient\n",
    "        P[:,u] += gamma * ( e * Q[:,i] - lmbda * P[:,u]) # Update latent user feature matrix\n",
    "        Q[:,i] += gamma * ( e * P[:,u] - lmbda * Q[:,i]) # Update latent movie feature matrix\n",
    "    train_rmse = rmse(I,R,Q,P) # Calculate root mean squared error from train dataset\n",
    "    test_rmse = rmse(I2,T,Q,P) # Calculate root mean squared error from test dataset\n",
    "    train_errors.append(train_rmse)\n",
    "    test_errors.append(test_rmse)\n",
    "    \n",
    "    print (\"[Epoch %d/%d] train error: %f, test error: %f\" \\\n",
    "    %(epoch+1, n_epochs, train_rmse, test_rmse))\n",
    "\n",
    "print(\"Algorithm converged\")"
   ]
  },
  {
   "cell_type": "markdown",
   "metadata": {},
   "source": [
    "Como foram guardados todos os  ``train_errors`` e ``test_errors`` para cada época, podemos plotar as curva de aprendizagem do algoritmo SGD-WR."
   ]
  },
  {
   "cell_type": "code",
   "execution_count": 8,
   "metadata": {},
   "outputs": [
    {
     "data": {
      "image/png": "[encoded data removed]",
      "text/plain": [
       "<Figure size 432x288 with 1 Axes>"
      ]
     },
     "metadata": {},
     "output_type": "display_data"
    }
   ],
   "source": [
    "# Check performance by plotting train and test errors\n",
    "import matplotlib.pyplot as plt\n",
    "%matplotlib inline\n",
    "\n",
    "plt.plot(range(n_epochs), train_errors, marker='o', label='Training Data');\n",
    "plt.plot(range(n_epochs), test_errors, marker='v', label='Test Data');\n",
    "plt.title('SGD-WR Learning Curve')\n",
    "plt.xlabel('Number of Epochs');\n",
    "plt.ylabel('RMSE');\n",
    "plt.legend()\n",
    "plt.grid()\n",
    "plt.show()"
   ]
  },
  {
   "cell_type": "markdown",
   "metadata": {},
   "source": [
    "O modelo parece se comportar muito bem, com um RMSE relativamente baixo apor convergir. A performance pode ser influenciada através da calibragem dos parâmetros $\\lambda$, $\\gamma$ and $k$.\n",
    "\n",
    "\n",
    "A seguir tu podes comparar o rating real com o rating predito. Para isso, primeiro calcula-se a matriz de rating preditos - para a qual utilizaremos a função ``prediction`` que foi definida anteriormente, e converter a matriz em um dataframe para facilitar o uso. <img src=\"https://latex.codecogs.com/gif.latex?\\hat&space;r_{ui}=P_u^TQ_i$&space;&space;$(2)\" title=\"\\hat r_{ui}=p_u^Tq_i\" /> "
   ]
  },
  {
   "cell_type": "code",
   "execution_count": 9,
   "metadata": {},
   "outputs": [],
   "source": [
    "# Calculate prediction matrix R_hat (low-rank approximation for R)\n",
    "R = pd.DataFrame(R)\n",
    "R_hat=pd.DataFrame(prediction(P,Q))"
   ]
  },
  {
   "cell_type": "markdown",
   "metadata": {},
   "source": [
    "Para se ter uma ideia do que foi atingido, vamos comparar algumas de nossas predições para o usuário ``29`` com seus ratings reais."
   ]
  },
  {
   "cell_type": "code",
   "execution_count": 17,
   "metadata": {},
   "outputs": [
    {
     "data": {
      "text/html": [
       "<div>\n",
       "<style scoped>\n",
       "    .dataframe tbody tr th:only-of-type {\n",
       "        vertical-align: middle;\n",
       "    }\n",
       "\n",
       "    .dataframe tbody tr th {\n",
       "        vertical-align: top;\n",
       "    }\n",
       "\n",
       "    .dataframe thead th {\n",
       "        text-align: right;\n",
       "    }\n",
       "</style>\n",
       "<table border=\"1\" class=\"dataframe\">\n",
       "  <thead>\n",
       "    <tr style=\"text-align: right;\">\n",
       "      <th></th>\n",
       "      <th>Actual Rating</th>\n",
       "      <th>Predicted Rating</th>\n",
       "    </tr>\n",
       "  </thead>\n",
       "  <tbody>\n",
       "    <tr>\n",
       "      <th>0</th>\n",
       "      <td>3.0</td>\n",
       "      <td>3.702658</td>\n",
       "    </tr>\n",
       "    <tr>\n",
       "      <th>1</th>\n",
       "      <td>3.0</td>\n",
       "      <td>2.952341</td>\n",
       "    </tr>\n",
       "    <tr>\n",
       "      <th>3</th>\n",
       "      <td>5.0</td>\n",
       "      <td>3.798026</td>\n",
       "    </tr>\n",
       "    <tr>\n",
       "      <th>4</th>\n",
       "      <td>1.0</td>\n",
       "      <td>2.183752</td>\n",
       "    </tr>\n",
       "    <tr>\n",
       "      <th>6</th>\n",
       "      <td>2.0</td>\n",
       "      <td>3.209168</td>\n",
       "    </tr>\n",
       "  </tbody>\n",
       "</table>\n",
       "</div>"
      ],
      "text/plain": [
       "   Actual Rating  Predicted Rating\n",
       "0            3.0          3.702658\n",
       "1            3.0          2.952341\n",
       "3            5.0          3.798026\n",
       "4            1.0          2.183752\n",
       "6            2.0          3.209168"
      ]
     },
     "execution_count": 17,
     "metadata": {},
     "output_type": "execute_result"
    }
   ],
   "source": [
    "# Compare true ratings of user 17 with predictions\n",
    "ratings = pd.DataFrame(data=R.loc[12,R.loc[12,:] > 0]).head(n=5)\n",
    "ratings['Prediction'] = R_hat.loc[12,R.loc[12,:] > 0]\n",
    "ratings.columns = ['Actual Rating', 'Predicted Rating']\n",
    "ratings"
   ]
  },
  {
   "cell_type": "markdown",
   "metadata": {},
   "source": [
    "## Referências\n",
    "- [Koren et al. (2009)](http://citeseer.ist.psu.edu/viewdoc/download;jsessionid=8413B85890576DE006023342D58E8E67?doi=10.1.1.147.8295&rep=rep1&type=pdf) Koren, Y., Bell, R.M., Volinsky, C.: Matrix factorization techniques for recommender systems. IEEE Computer 42(8), 30–37 (2009) 32 Francesco Ricci, Lior Rokach and Bracha Shapira"
   ]
  },
  {
   "cell_type": "markdown",
   "metadata": {},
   "source": [
    "<hr>\n",
    "<strong>Este tutorial foi adaptado a partir do tutorial de Agnes Johannsdottir e Moritz Haller.</strong>\n",
    "\n",
    "Agnes is a master student in Business Analytics at University College London. She studied Management Engineering in Iceland and worked for 2 years as an IT consultant in supply chain. Her main interests lie in using data science methods (especially machine learning) to apply in Retail and Supply Chain businesses.\n",
    "\n",
    "Moritz has spent the past years in industry, working on business intelligence applications with the company he co-founded. He holds a BSc in Computer Science and is currently pursuing an MSc in Computer Science at University College London. His main interests lie in probabilistic modelling and machine learning."
   ]
  },
  {
   "cell_type": "code",
   "execution_count": null,
   "metadata": {},
   "outputs": [],
   "source": []
  }
 ],
 "metadata": {
  "kernelspec": {
   "display_name": "Python 3",
   "language": "python",
   "name": "python3"
  },
  "language_info": {
   "codemirror_mode": {
    "name": "ipython",
    "version": 3
   },
   "file_extension": ".py",
   "mimetype": "text/x-python",
   "name": "python",
   "nbconvert_exporter": "python",
   "pygments_lexer": "ipython3",
   "version": "3.6.5"
  }
 },
 "nbformat": 4,
 "nbformat_minor": 1
}
